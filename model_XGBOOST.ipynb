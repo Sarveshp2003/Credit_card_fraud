{
 "cells": [
  {
   "cell_type": "code",
   "execution_count": 62,
   "metadata": {},
   "outputs": [],
   "source": [
    "import xgboost as xgb\n",
    "import pandas as pd\n",
    "from sklearn.model_selection import train_test_split\n",
    "from sklearn.metrics import accuracy_score, confusion_matrix\n"
   ]
  },
  {
   "cell_type": "code",
   "execution_count": 63,
   "metadata": {},
   "outputs": [
    {
     "data": {
      "text/plain": [
       "0    7506\n",
       "1    6153\n",
       "Name: is_fraud, dtype: int64"
      ]
     },
     "execution_count": 63,
     "metadata": {},
     "output_type": "execute_result"
    }
   ],
   "source": [
    "df=pd.read_csv(r\"C:\\Users\\sarve\\Desktop\\credit_card_fruda\\resampled_fraud_data.csv\")\n",
    "df.columns\n",
    "df['is_fraud'].value_counts()"
   ]
  },
  {
   "cell_type": "code",
   "execution_count": 65,
   "metadata": {},
   "outputs": [
    {
     "name": "stdout",
     "output_type": "stream",
     "text": [
      "Accuracy: 0.9784040995607614\n",
      "Confusion Matrix: \n",
      "[[1479   33]\n",
      " [  26 1194]]\n"
     ]
    }
   ],
   "source": [
    "\n",
    "\n",
    "#  preprocessed and stored in 'df'\n",
    "X = df.drop('is_fraud', axis=1)\n",
    "y = df['is_fraud']\n",
    "\n",
    "# Split the dataset into training and testing sets\n",
    "X_train, X_test, y_train, y_test = train_test_split(X, y, test_size=0.2, random_state=42)\n",
    "\n",
    "# Initialize XGBoost classifier without 'use_label_encoder' parameter\n",
    "model = xgb.XGBClassifier(eval_metric='logloss')\n",
    "\n",
    "# Train the model\n",
    "model.fit(X_train, y_train)\n",
    "\n",
    "# Make predictions on the test set\n",
    "y_pred = model.predict(X_test)\n",
    "\n",
    "# Evaluate the model\n",
    "accuracy = accuracy_score(y_test, y_pred)\n",
    "cm = confusion_matrix(y_test, y_pred)\n",
    "\n",
    "# Print the results\n",
    "print(f\"Accuracy: {accuracy}\")\n",
    "print(f\"Confusion Matrix: \\n{cm}\")\n"
   ]
  },
  {
   "cell_type": "code",
   "execution_count": 66,
   "metadata": {},
   "outputs": [
    {
     "name": "stdout",
     "output_type": "stream",
     "text": [
      "F1 scores: [0.97808442 0.97685749 0.97886179 0.97440065 0.97934386]\n",
      "Average F1: 0.9775096418243668\n"
     ]
    }
   ],
   "source": [
    "from sklearn.model_selection import cross_val_score, StratifiedKFold\n",
    "\n",
    "cv = StratifiedKFold(n_splits=5, shuffle=True, random_state=42)\n",
    "scores = cross_val_score(model, X, y, cv=cv, scoring='f1')\n",
    "print(\"F1 scores:\", scores)\n",
    "print(\"Average F1:\", scores.mean())\n"
   ]
  },
  {
   "cell_type": "code",
   "execution_count": 74,
   "metadata": {},
   "outputs": [
    {
     "name": "stdout",
     "output_type": "stream",
     "text": [
      "Accuracy: 0.9793942622080584\n",
      "Confusion Matrix:\n",
      " [[542491  11083]\n",
      " [   368   1777]]\n",
      "Classification Report:\n",
      "               precision    recall  f1-score   support\n",
      "\n",
      "           0       1.00      0.98      0.99    553574\n",
      "           1       0.14      0.83      0.24      2145\n",
      "\n",
      "    accuracy                           0.98    555719\n",
      "   macro avg       0.57      0.90      0.61    555719\n",
      "weighted avg       1.00      0.98      0.99    555719\n",
      "\n"
     ]
    }
   ],
   "source": [
    "from sklearn.metrics import classification_report\n",
    "\n",
    "# Load the test dataset\n",
    "test_df = pd.read_csv(r\"C:\\Users\\sarve\\Desktop\\credit_card_fruda\\processed_fraud_data_test.csv\")\n",
    "\n",
    "# Drop unnecessary column\n",
    "#test_df = test_df.drop('unix_time', axis=1)\n",
    "\n",
    "# Separate features and labels\n",
    "X_test_real = test_df.drop('is_fraud', axis=1)\n",
    "y_test_real = test_df['is_fraud']\n",
    "\n",
    "# Align feature columns to match training data\n",
    "X_test_real = X_test_real[X_train.columns]  # <- Ensures correct order\n",
    "\n",
    "# Predict using the trained model\n",
    "# y_pred_real = model.predict(X_test_real)\n",
    "y_proba = model.predict_proba(X_test_real)[:, 1]  # Probability of class 1\n",
    "y_pred_custom = (y_proba > 0.5).astype(int)       # Lowering threshold helps catch more frauds\n",
    "\n",
    "\n",
    "# Evaluate the model\n",
    "# accuracy = accuracy_score(y_test_real, y_pred_real)\n",
    "# cm = confusion_matrix(y_test_real, y_pred_real)\n",
    "# report = classification_report(y_test_real, y_pred_real)\n",
    "accuracy = accuracy_score(y_test_real, y_pred_custom)\n",
    "cm = confusion_matrix(y_test_real, y_pred_custom)\n",
    "report = classification_report(y_test_real, y_pred_custom)\n",
    "\n",
    "# Display results\n",
    "print(f\"Accuracy: {accuracy}\")\n",
    "print(\"Confusion Matrix:\\n\", cm)\n",
    "print(\"Classification Report:\\n\", report)\n",
    "\n"
   ]
  },
  {
   "cell_type": "code",
   "execution_count": null,
   "metadata": {},
   "outputs": [],
   "source": []
  },
  {
   "cell_type": "code",
   "execution_count": null,
   "metadata": {},
   "outputs": [],
   "source": []
  }
 ],
 "metadata": {
  "kernelspec": {
   "display_name": "Python 3",
   "language": "python",
   "name": "python3"
  },
  "language_info": {
   "codemirror_mode": {
    "name": "ipython",
    "version": 3
   },
   "file_extension": ".py",
   "mimetype": "text/x-python",
   "name": "python",
   "nbconvert_exporter": "python",
   "pygments_lexer": "ipython3",
   "version": "3.10.11"
  },
  "orig_nbformat": 4
 },
 "nbformat": 4,
 "nbformat_minor": 2
}
